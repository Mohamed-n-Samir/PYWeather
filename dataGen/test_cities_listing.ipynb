{
 "cells": [
  {
   "cell_type": "code",
   "execution_count": 1,
   "metadata": {},
   "outputs": [],
   "source": [
    "import requests\n",
    "import csv"
   ]
  },
  {
   "cell_type": "code",
   "execution_count": 2,
   "metadata": {},
   "outputs": [],
   "source": [
    "# GeoNames API key (make sure to replace it with your own)\n",
    "GEONAMES_API_KEY = 'nash_pan'\n",
    "\n",
    "# GeoNames endpoint to fetch cities by country\n",
    "GEONAMES_URL = 'http://api.geonames.org/citiesJSON'"
   ]
  },
  {
   "cell_type": "code",
   "execution_count": null,
   "metadata": {},
   "outputs": [],
   "source": [
    "# Function to save city data to CSV\n",
    "def save_cities_to_csv(cities):\n",
    "    with open('cities.csv', mode='a', newline='', encoding='utf-8') as file:\n",
    "        writer = csv.writer(file)\n",
    "        file_empty = file.tell() == 0\n",
    "        \n",
    "        # Write the header only if the file is empty\n",
    "        if file_empty:\n",
    "            writer.writerow(['lng', 'geonameId', 'countrycode', 'name', 'fclName', 'toponymName', 'fcodeName', 'wikipedia', 'lat', 'fcl', 'population', 'fcode'])\n",
    "            \n",
    "        for city in cities:\n",
    "            writer.writerow(list(city.values()))"
   ]
  },
  {
   "cell_type": "code",
   "execution_count": 4,
   "metadata": {},
   "outputs": [],
   "source": [
    "def read_countries_from_csv(file_path):\n",
    "    countries = []\n",
    "    \n",
    "    with open(file_path, mode='r', encoding='utf-8') as file:\n",
    "        csv_reader = csv.reader(file)\n",
    "        next(csv_reader)  # Skip the header row\n",
    "        \n",
    "        for row in csv_reader:\n",
    "            country_name = row[0] \n",
    "            country_code = row[1] \n",
    "            west = row[2] \n",
    "            north = row[3] \n",
    "            east = row[4] \n",
    "            south = row[5] \n",
    "            countries.append((country_name, country_code, west, north, east, south))\n",
    "    \n",
    "    return countries"
   ]
  },
  {
   "cell_type": "code",
   "execution_count": 5,
   "metadata": {},
   "outputs": [],
   "source": [
    "# Function to get cities by country from GeoNames API\n",
    "def get_cities_from_geonames(country):\n",
    "    params = {\n",
    "        'country': country[1],  # Country code, e.g., 'US' for USA\n",
    "        'west': country[2],  # Country code, e.g., 'US' for USA\n",
    "        'north': country[3],  # Country code, e.g., 'US' for USA\n",
    "        'east': country[4],  # Country code, e.g., 'US' for USA\n",
    "        'south': country[5],  # Country code, e.g., 'US' for USA\n",
    "        'username': GEONAMES_API_KEY,  # GeoNames username\n",
    "        'maxRows': 50\n",
    "    }\n",
    "\n",
    "    # Make the API request\n",
    "    response = requests.get(GEONAMES_URL, params=params)\n",
    "    data = response.json()\n",
    "\n",
    "    # Check if the response contains 'geonames' (the cities list)\n",
    "    if 'geonames' not in data:\n",
    "        print(f\"Error: No cities found for country {country[1]}.\")\n",
    "        return []\n",
    "\n",
    "    cities = []\n",
    "    for city in data['geonames']:\n",
    "        cities.append(city)\n",
    "        # print(city)\n",
    "            \n",
    "    save_cities_to_csv(cities)\n",
    "\n",
    "    return cities\n",
    "\n",
    "\n"
   ]
  },
  {
   "cell_type": "code",
   "execution_count": 6,
   "metadata": {},
   "outputs": [],
   "source": [
    "countries = read_countries_from_csv(\"./countries.csv\")\n"
   ]
  },
  {
   "cell_type": "code",
   "execution_count": null,
   "metadata": {},
   "outputs": [],
   "source": [
    "\n",
    "for country in countries:\n",
    "    print(f\"country => {country} | len => \",len(get_cities_from_geonames(country)))"
   ]
  },
  {
   "cell_type": "code",
   "execution_count": 8,
   "metadata": {},
   "outputs": [],
   "source": [
    "# {'lng', 'geonameId', 'countrycode', 'name', 'fclName', 'toponymName', 'fcodeName', 'wikipedia', 'lat', 'fcl', 'population', 'fcode'}"
   ]
  },
  {
   "cell_type": "code",
   "execution_count": 9,
   "metadata": {},
   "outputs": [
    {
     "data": {
      "text/plain": [
       "[31.551933,\n",
       " 886990,\n",
       " 'ZW',\n",
       " 'Marondera',\n",
       " 'city, village,...',\n",
       " 'Marondera',\n",
       " 'seat of a first-order administrative division',\n",
       " 'en.wikipedia.org/wiki/Marondera',\n",
       " -18.185266,\n",
       " 'P',\n",
       " 66203,\n",
       " 'PPLA']"
      ]
     },
     "execution_count": 9,
     "metadata": {},
     "output_type": "execute_result"
    }
   ],
   "source": [
    "dict = {'lng': 31.551933, 'geonameId': 886990, 'countrycode': 'ZW', 'name': 'Marondera', 'fclName': 'city, village,...', 'toponymName': 'Marondera', 'fcodeName': 'seat of a first-order administrative division', 'wikipedia': 'en.wikipedia.org/wiki/Marondera', 'lat': -18.185266, 'fcl': 'P', 'population': 66203, 'fcode': 'PPLA'}\n",
    "\n",
    "list(dict.values())"
   ]
  }
 ],
 "metadata": {
  "kernelspec": {
   "display_name": "ml",
   "language": "python",
   "name": "python3"
  },
  "language_info": {
   "codemirror_mode": {
    "name": "ipython",
    "version": 3
   },
   "file_extension": ".py",
   "mimetype": "text/x-python",
   "name": "python",
   "nbconvert_exporter": "python",
   "pygments_lexer": "ipython3",
   "version": "3.10.15"
  }
 },
 "nbformat": 4,
 "nbformat_minor": 2
}
