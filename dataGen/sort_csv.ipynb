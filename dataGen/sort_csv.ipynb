{
 "cells": [
  {
   "cell_type": "code",
   "execution_count": 4,
   "metadata": {},
   "outputs": [
    {
     "name": "stdout",
     "output_type": "stream",
     "text": [
      "       Country Name Country Code        West      North        East  \\\n",
      "2       Afghanistan           AF   60.472083  38.490792   74.889451   \n",
      "5           Albania           AL   19.263911  42.661167   21.057433   \n",
      "61          Algeria           DZ   -8.667611  37.089801   11.998500   \n",
      "10   American Samoa           AS -171.090042 -11.047857 -169.418925   \n",
      "0           Andorra           AD    1.413573  42.655888    1.786694   \n",
      "..              ...          ...         ...        ...         ...   \n",
      "65   Western Sahara           EH  -17.104181  27.667402   -8.667525   \n",
      "245           Yemen           YE   42.534005  18.999633   54.534397   \n",
      "248          Zambia           ZM   21.999351  -8.203284   33.709030   \n",
      "249        Zimbabwe           ZW   25.237368 -15.609319   33.068236   \n",
      "14            Åland           AX   19.310969  60.493994   21.021360   \n",
      "\n",
      "         South  GeonameID  \n",
      "2    29.377065    1149361  \n",
      "5    39.644862     783754  \n",
      "61   18.968147    2589581  \n",
      "10  -14.373776    5880801  \n",
      "0    42.428748    3041565  \n",
      "..         ...        ...  \n",
      "65   20.771665    2461445  \n",
      "245  12.108116      69543  \n",
      "248 -18.077418     895949  \n",
      "249 -22.421999     878675  \n",
      "14   59.901359     661882  \n",
      "\n",
      "[250 rows x 7 columns]\n"
     ]
    }
   ],
   "source": [
    "import pandas as pd\n",
    "\n",
    "# Step 1: Read the CSV file into a DataFrame\n",
    "df = pd.read_csv('countries.csv')  # Replace 'your_file.csv' with the path to your CSV file\n",
    "\n",
    "# Step 2: Sort the DataFrame by the 'name' column (alphabetically)\n",
    "df_sorted = df.sort_values(by=['Country Name'], ascending=True)  # ascending=True for alphabetical order\n",
    "\n",
    "# Step 3: Save the sorted DataFrame back to a CSV file (optional)\n",
    "df_sorted.to_csv('sorted_countries.csv', index=False)  # 'index=False' avoids writing row indices to the file\n",
    "\n",
    "# Optional: Display the sorted DataFrame\n",
    "print(df_sorted)\n"
   ]
  }
 ],
 "metadata": {
  "kernelspec": {
   "display_name": "ml",
   "language": "python",
   "name": "python3"
  },
  "language_info": {
   "codemirror_mode": {
    "name": "ipython",
    "version": 3
   },
   "file_extension": ".py",
   "mimetype": "text/x-python",
   "name": "python",
   "nbconvert_exporter": "python",
   "pygments_lexer": "ipython3",
   "version": "3.10.15"
  }
 },
 "nbformat": 4,
 "nbformat_minor": 2
}
